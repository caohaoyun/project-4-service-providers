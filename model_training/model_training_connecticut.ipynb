{
 "cells": [
  {
   "cell_type": "code",
   "execution_count": 42,
   "metadata": {},
   "outputs": [],
   "source": [
    "#Imports\n",
    "import pandas as pd\n",
    "import sqlite3\n",
    "from sklearn.model_selection import train_test_split\n",
    "from sklearn.linear_model import LinearRegression\n",
    "from sklearn.preprocessing import LabelEncoder\n",
    "from sklearn.metrics import mean_absolute_error, mean_squared_error\n",
    "import numpy as np\n",
    "import joblib\n",
    "import json"
   ]
  },
  {
   "cell_type": "code",
   "execution_count": 43,
   "metadata": {},
   "outputs": [],
   "source": [
    "# Connect to the database file\n",
    "conn = sqlite3.connect('../Data/Flask/new_database2.db')\n",
    "# Create a cursor object to execute SQL queries\n",
    "cursor = conn.cursor()"
   ]
  },
  {
   "cell_type": "code",
   "execution_count": 44,
   "metadata": {},
   "outputs": [],
   "source": [
    "# Load data from the SQLite database\n",
    "query = 'SELECT bed, bath, acre_lot, house_size, sold_previously, city, state, zip_code, price FROM Connecticut'\n",
    "housing_df = pd.read_sql_query(query, conn)"
   ]
  },
  {
   "cell_type": "code",
   "execution_count": 45,
   "metadata": {},
   "outputs": [],
   "source": [
    "# Perform one-hot encoding for categorical variables\n",
    "# housing_df = pd.get_dummies(housing_df, columns=['city', 'zip_code'])\n",
    "city_encoder = LabelEncoder()\n",
    "city_df = city_encoder.fit_transform(housing_df['city'])\n",
    "zip_encoder = LabelEncoder()\n",
    "zip_df = zip_encoder.fit_transform(housing_df['zip_code'])\n",
    "city_zip_df = pd.DataFrame({\"city_encoded\":\n",
    "    pd.Series(city_df), \"zip_encoded\": pd.Series(zip_df)})\n",
    "\n",
    "\n",
    "\n",
    "# Split the data into training and testing sets\n",
    "X = pd.concat([housing_df[['bed', 'bath', 'acre_lot', 'house_size', 'sold_previously']], city_zip_df], axis=1)\n",
    "y = housing_df['price']\n",
    "\n",
    "X_train, X_test, y_train, y_test = train_test_split(X, y, test_size=0.2, random_state=42)\n"
   ]
  },
  {
   "cell_type": "code",
   "execution_count": 46,
   "metadata": {},
   "outputs": [
    {
     "data": {
      "text/plain": [
       "(67445,)"
      ]
     },
     "execution_count": 46,
     "metadata": {},
     "output_type": "execute_result"
    }
   ],
   "source": [
    "y.shape"
   ]
  },
  {
   "cell_type": "code",
   "execution_count": 47,
   "metadata": {},
   "outputs": [
    {
     "name": "stdout",
     "output_type": "stream",
     "text": [
      "Mean Absolute Error: 193352.18247326306\n",
      "Root Mean Squared Error: 399912.9511614398\n"
     ]
    }
   ],
   "source": [
    "# Create a Linear Regression model\n",
    "model = LinearRegression()\n",
    "\n",
    "# Train the model on the training data\n",
    "model.fit(X_train, y_train)\n",
    "\n",
    "# Make predictions on the test data\n",
    "y_pred = model.predict(X_test)\n",
    "\n",
    "# Calculate evaluation metrics\n",
    "mae = mean_absolute_error(y_test, y_pred)\n",
    "rmse = np.sqrt(mean_squared_error(y_test, y_pred))\n",
    "\n",
    "print(f\"Mean Absolute Error: {mae}\")\n",
    "print(f\"Root Mean Squared Error: {rmse}\")"
   ]
  },
  {
   "cell_type": "code",
   "execution_count": 48,
   "metadata": {},
   "outputs": [
    {
     "name": "stdout",
     "output_type": "stream",
     "text": [
      "Predicted Price: $544895.7850557694\n"
     ]
    }
   ],
   "source": [
    "# Example input data for prediction\n",
    "new_data = pd.DataFrame({\n",
    "    'bed': [4],\n",
    "    'bath': [3],\n",
    "    'acre_lot': [2.11],\n",
    "    'house_size': [2626],\n",
    "    'sold_previously': [1],\n",
    "    'city': ['Barkhamsted'],\n",
    "    'zip_code': ['6063.0']\n",
    "\n",
    "})\n",
    "\n",
    "encoded_new_data = city_encoder.transform(new_data['city'])\n",
    "new_data ['city_encoded'] = encoded_new_data[0]\n",
    "encoded_new_data = zip_encoder.transform(new_data['zip_code'])\n",
    "new_data ['zip_encoded'] = encoded_new_data[0]\n",
    "\n",
    "# Predict the price for the new data\n",
    "del new_data['zip_code']\n",
    "del new_data['city']\n",
    "predicted_price = model.predict(new_data)\n",
    "\n",
    "print(f\"Predicted Price: ${predicted_price[0]}\")"
   ]
  },
  {
   "cell_type": "code",
   "execution_count": 49,
   "metadata": {},
   "outputs": [
    {
     "data": {
      "text/plain": [
       "['../Data/Flask/PKL/connecticut_ZE.pkl']"
      ]
     },
     "execution_count": 49,
     "metadata": {},
     "output_type": "execute_result"
    }
   ],
   "source": [
    "\n",
    "city_encoded = LabelEncoder()\n",
    "city_encoded.fit(housing_df['city'])\n",
    "zip_encoded = LabelEncoder()\n",
    "zip_encoded.fit(housing_df['zip_code'])\n",
    "\n",
    "\n",
    "joblib.dump(model, \"../Data/Flask/PKL/connecticut.pkl\")\n",
    "joblib.dump(city_encoded, \"../Data/Flask/PKL/connecticut_CE.pkl\")\n",
    "joblib.dump(zip_encoded, \"../Data/Flask/PKL/connecticut_ZE.pkl\")"
   ]
  },
  {
   "cell_type": "code",
   "execution_count": 50,
   "metadata": {},
   "outputs": [],
   "source": [
    "conn.close()"
   ]
  },
  {
   "cell_type": "code",
   "execution_count": 51,
   "metadata": {},
   "outputs": [],
   "source": [
    "# # Load the model from the saved file\n",
    "# loaded_model = joblib.load(\"ML_Models/connecticut_model.pkl\")\n",
    "\n",
    "# # Extract relevant model information\n",
    "# model_info = {\n",
    "#     \"model_type\": \"LinearRegression\",\n",
    "#     \"coefficients\": loaded_model.coef_.tolist(),\n",
    "#     \"intercept\": loaded_model.intercept_,\n",
    "# }\n",
    "\n",
    "# # Convert the model information to a JSON format\n",
    "# model_json = json.dumps(model_info, indent=4)"
   ]
  },
  {
   "cell_type": "code",
   "execution_count": 52,
   "metadata": {},
   "outputs": [
    {
     "name": "stdout",
     "output_type": "stream",
     "text": [
      "{\n",
      "    \"model_type\": \"LinearRegression\",\n",
      "    \"coefficients\": [\n",
      "        -70459.54775916362,\n",
      "        176553.88672433703,\n",
      "        18033.920627264746,\n",
      "        155.27153155230917,\n",
      "        38066.31715587318,\n",
      "        -444.02036215977694,\n",
      "        1369.7057473196944\n",
      "    ],\n",
      "    \"intercept\": -221994.5893453455\n",
      "}\n"
     ]
    }
   ],
   "source": [
    "# print(model_json)"
   ]
  },
  {
   "cell_type": "code",
   "execution_count": 53,
   "metadata": {},
   "outputs": [],
   "source": [
    "# # Your model_info goes here\n",
    "# model_info = {\n",
    "#     \"model_type\": \"LinearRegression\",\n",
    "#     \"coefficients\": [        -70459.54775916362,\n",
    "#         176553.88672433703,\n",
    "#         18033.920627264746,\n",
    "#         155.27153155230917,\n",
    "#         38066.31715587318,\n",
    "#         -444.02036215977694,\n",
    "#         1369.7057473196944],\n",
    "#     \"intercept\": -221994.5893453455\n",
    "# }\n",
    "\n",
    "# # Define a file path for your JSON file\n",
    "# json_file_path = \"../Data/Flask/JSON/connecticut.json\"\n",
    "\n",
    "# # Write the model_info to the JSON file\n",
    "# with open(json_file_path, \"w\") as json_file:\n",
    "#     json.dump(model_info, json_file, indent=4)\n",
    "\n",
    "# # Confirm that the JSON file has been created\n",
    "# print(f\"JSON file saved as {json_file_path}\")"
   ]
  }
 ],
 "metadata": {
  "kernelspec": {
   "display_name": "dev",
   "language": "python",
   "name": "python3"
  },
  "language_info": {
   "codemirror_mode": {
    "name": "ipython",
    "version": 3
   },
   "file_extension": ".py",
   "mimetype": "text/x-python",
   "name": "python",
   "nbconvert_exporter": "python",
   "pygments_lexer": "ipython3",
   "version": "3.10.12"
  }
 },
 "nbformat": 4,
 "nbformat_minor": 2
}
