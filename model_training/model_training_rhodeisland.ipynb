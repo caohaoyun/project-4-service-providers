{
 "cells": [
  {
   "cell_type": "code",
   "execution_count": 1,
   "metadata": {},
   "outputs": [],
   "source": [
    "#Imports\n",
    "import pandas as pd\n",
    "import sqlite3\n",
    "from sklearn.model_selection import train_test_split\n",
    "from sklearn.linear_model import LinearRegression\n",
    "from sklearn.preprocessing import LabelEncoder\n",
    "from sklearn.metrics import mean_absolute_error, mean_squared_error\n",
    "import numpy as np"
   ]
  },
  {
   "cell_type": "code",
   "execution_count": 2,
   "metadata": {},
   "outputs": [],
   "source": [
    "# Connect to the database file\n",
    "conn = sqlite3.connect('../Data/new_database.db')\n",
    "# Create a cursor object to execute SQL queries\n",
    "cursor = conn.cursor()"
   ]
  },
  {
   "cell_type": "code",
   "execution_count": 3,
   "metadata": {},
   "outputs": [],
   "source": [
    "# Load data from the SQLite database\n",
    "query = 'SELECT bed, bath, acre_lot, house_size, sold_previously, city, state, zip_code, price FROM RhodeIsland'\n",
    "housing_df = pd.read_sql_query(query, conn)"
   ]
  },
  {
   "cell_type": "code",
   "execution_count": 4,
   "metadata": {},
   "outputs": [],
   "source": [
    "# Perform one-hot encoding for categorical variables\n",
    "# housing_df = pd.get_dummies(housing_df, columns=['city', 'zip_code'])\n",
    "city_encoder = LabelEncoder()\n",
    "city_df = city_encoder.fit_transform(housing_df['city'])\n",
    "zip_encoder = LabelEncoder()\n",
    "zip_df = zip_encoder.fit_transform(housing_df['zip_code'])\n",
    "city_zip_df = pd.DataFrame({\"city_encoded\":\n",
    "    pd.Series(city_df), \"zip_encoded\": pd.Series(zip_df)})\n",
    "\n",
    "\n",
    "\n",
    "# Split the data into training and testing sets\n",
    "X = pd.concat([housing_df[['bed', 'bath', 'acre_lot', 'house_size', 'sold_previously']], city_zip_df], axis=1)\n",
    "y = housing_df['price']\n",
    "\n",
    "X_train, X_test, y_train, y_test = train_test_split(X, y, test_size=0.2, random_state=42)\n"
   ]
  },
  {
   "cell_type": "code",
   "execution_count": 5,
   "metadata": {},
   "outputs": [
    {
     "data": {
      "text/plain": [
       "(29596,)"
      ]
     },
     "execution_count": 5,
     "metadata": {},
     "output_type": "execute_result"
    }
   ],
   "source": [
    "y.shape"
   ]
  },
  {
   "cell_type": "code",
   "execution_count": 6,
   "metadata": {},
   "outputs": [
    {
     "name": "stdout",
     "output_type": "stream",
     "text": [
      "Mean Absolute Error: 222948.88217988083\n",
      "Root Mean Squared Error: 404085.64829403156\n"
     ]
    }
   ],
   "source": [
    "# Create a Linear Regression model\n",
    "model = LinearRegression()\n",
    "\n",
    "# Train the model on the training data\n",
    "model.fit(X_train, y_train)\n",
    "\n",
    "# Make predictions on the test data\n",
    "y_pred = model.predict(X_test)\n",
    "\n",
    "# Calculate evaluation metrics\n",
    "mae = mean_absolute_error(y_test, y_pred)\n",
    "rmse = np.sqrt(mean_squared_error(y_test, y_pred))\n",
    "\n",
    "print(f\"Mean Absolute Error: {mae}\")\n",
    "print(f\"Root Mean Squared Error: {rmse}\")"
   ]
  },
  {
   "cell_type": "code",
   "execution_count": 7,
   "metadata": {},
   "outputs": [
    {
     "name": "stdout",
     "output_type": "stream",
     "text": [
      "Predicted Price: $494878.33739111526\n"
     ]
    }
   ],
   "source": [
    "# Example input data for prediction\n",
    "new_data = pd.DataFrame({\n",
    "    'bed': [3],\n",
    "    'bath': [2],\n",
    "    'acre_lot': [1.0],\n",
    "    'house_size': [1500],\n",
    "    'sold_previously': [0],\n",
    "    'city': ['Lincoln'],\n",
    "    'zip_code': ['2838.0']\n",
    "\n",
    "})\n",
    "\n",
    "encoded_new_data = city_encoder.transform(new_data['city'])\n",
    "new_data ['city_encoded'] = encoded_new_data[0]\n",
    "encoded_new_data = zip_encoder.transform(new_data['zip_code'])\n",
    "new_data ['zip_encoded'] = encoded_new_data[0]\n",
    "\n",
    "# Predict the price for the new data\n",
    "del new_data['zip_code']\n",
    "del new_data['city']\n",
    "predicted_price = model.predict(new_data)\n",
    "\n",
    "print(f\"Predicted Price: ${predicted_price[0]}\")"
   ]
  },
  {
   "cell_type": "code",
   "execution_count": 8,
   "metadata": {},
   "outputs": [],
   "source": [
    "conn.close()"
   ]
  }
 ],
 "metadata": {
  "kernelspec": {
   "display_name": "dev",
   "language": "python",
   "name": "python3"
  },
  "language_info": {
   "codemirror_mode": {
    "name": "ipython",
    "version": 3
   },
   "file_extension": ".py",
   "mimetype": "text/x-python",
   "name": "python",
   "nbconvert_exporter": "python",
   "pygments_lexer": "ipython3",
   "version": "3.10.12"
  }
 },
 "nbformat": 4,
 "nbformat_minor": 2
}
