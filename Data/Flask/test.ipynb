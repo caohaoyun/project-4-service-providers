{
 "cells": [
  {
   "cell_type": "code",
   "execution_count": 23,
   "metadata": {},
   "outputs": [
    {
     "name": "stdout",
     "output_type": "stream",
     "text": [
      "Predicted Price (Maine): $436627.7875416762\n"
     ]
    },
    {
     "name": "stderr",
     "output_type": "stream",
     "text": [
      "c:\\Users\\fial_\\anaconda3\\envs\\dev\\lib\\site-packages\\sklearn\\base.py:439: UserWarning: X does not have valid feature names, but LinearRegression was fitted with feature names\n",
      "  warnings.warn(\n"
     ]
    }
   ],
   "source": [
    "import joblib\n",
    "import numpy as np\n",
    "from sklearn.preprocessing import LabelEncoder\n",
    "\n",
    "# Load the saved model, city_encoder, and zip_encoder\n",
    "maine_model = joblib.load(\"PKL/maine.pkl\")\n",
    "city_encoder = joblib.load(\"PKL/maine_CE.pkl\")\n",
    "zip_encoder = joblib.load(\"PKL/maine_ZE.pkl\")\n",
    "\n",
    "# Sample input data for prediction\n",
    "sample_input_data = {\n",
    "    'bed': 3,\n",
    "    'bath': 2,\n",
    "    'acre_lot': 0.3,\n",
    "    'house_size': 1334,\n",
    "    'sold_previously': 1,\n",
    "    'city': 'Portland',  # Replace with the actual city you want to predict\n",
    "    'zip_code': '4102.0'  # Replace with the actual zip code you want to predict\n",
    "}\n",
    "\n",
    "# Encode the city and zip_code using the loaded encoders\n",
    "sample_input_data['city_encoded'] = city_encoder.transform([sample_input_data['city']])[0]\n",
    "sample_input_data['zip_encoded'] = zip_encoder.transform([sample_input_data['zip_code']])[0]\n",
    "\n",
    "# Define the expected features (including the encoded city and zip_code)\n",
    "expected_features = ['bed', 'bath', 'acre_lot', 'house_size', 'sold_previously', 'city_encoded', 'zip_encoded']\n",
    "\n",
    "# Convert the input data to a 2D array\n",
    "input_data = np.array([[sample_input_data[feature] for feature in expected_features]])\n",
    "\n",
    "# Predict the price for the new data\n",
    "predicted_price = maine_model.predict(input_data)\n",
    "\n",
    "# Review the predicted price\n",
    "print(f\"Predicted Price (Maine): ${predicted_price[0]}\")\n",
    "\n",
    "\n"
   ]
  }
 ],
 "metadata": {
  "kernelspec": {
   "display_name": "dev",
   "language": "python",
   "name": "python3"
  },
  "language_info": {
   "codemirror_mode": {
    "name": "ipython",
    "version": 3
   },
   "file_extension": ".py",
   "mimetype": "text/x-python",
   "name": "python",
   "nbconvert_exporter": "python",
   "pygments_lexer": "ipython3",
   "version": "3.10.12"
  }
 },
 "nbformat": 4,
 "nbformat_minor": 2
}
