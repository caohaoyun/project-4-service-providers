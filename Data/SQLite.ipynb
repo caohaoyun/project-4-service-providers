{
 "cells": [
  {
   "cell_type": "code",
   "execution_count": 1,
   "metadata": {},
   "outputs": [],
   "source": [
    "import sqlalchemy\n",
    "from sqlalchemy.ext.automap import automap_base\n",
    "from sqlalchemy.orm import Session\n",
    "from sqlalchemy import create_engine, func\n",
    "import os\n",
    "import sqlite3\n",
    "import csv\n"
   ]
  },
  {
   "cell_type": "code",
   "execution_count": 2,
   "metadata": {},
   "outputs": [],
   "source": [
    "# Function to sanitize a string for SQLite table name\n",
    "def sanitize_table_name(name):\n",
    "    return ''.join(c for c in name if c.isalnum() or c == '_')\n",
    "\n",
    "def create_database():\n",
    "    # Connect to the database (or create it)\n",
    "    conn = sqlite3.connect('Flask/new_database2.db')\n",
    "    cursor = conn.cursor()\n",
    "    conn.commit()\n",
    "\n",
    "def create_state_table(state):\n",
    "    # Connect to the database\n",
    "    conn = sqlite3.connect('Flask/new_database2.db')\n",
    "    cursor = conn.cursor()\n",
    "    \n",
    "    # Sanitize the state name to make it a valid table name\n",
    "    state_table_name = sanitize_table_name(state)\n",
    "    \n",
    "    # Create a table for the state if it doesn't exist\n",
    "    cursor.execute(f'''\n",
    "    CREATE TABLE IF NOT EXISTS {state_table_name} (\n",
    "        ID TEXT NOT NULL,\n",
    "        bed REAL NOT NULL,\n",
    "        bath REAL NOT NULL,\n",
    "        acre_lot REAL NOT NULL,\n",
    "        city TEXT NOT NULL,\n",
    "        state TEXT NOT NULL,\n",
    "        zip_code TEXT NOT NULL,\n",
    "        house_size REAL NOT NULL,\n",
    "        price REAL NULL,\n",
    "        sold_previously REAL NOT NULL,\n",
    "        latitude REAL NOT NULL,\n",
    "        longitude REAL NOT NULL\n",
    "    )\n",
    "    ''')\n",
    "    \n",
    "    conn.commit()\n",
    "    conn.close()\n",
    "\n",
    "def load_data_from_csv(csv_file, state):\n",
    "    # Connect to the database\n",
    "    conn = sqlite3.connect('Flask/new_database2.db')\n",
    "    cursor = conn.cursor()\n",
    "    \n",
    "    # Open and read the CSV file\n",
    "    with open(csv_file, 'r') as file:\n",
    "        reader = csv.reader(file)\n",
    "        next(reader)  # Skip the header row\n",
    "        for row in reader:\n",
    "            cursor.execute(f'INSERT INTO {sanitize_table_name(state)} (\"ID\",\"bed\",\"bath\",\"acre_lot\", \"city\", \"state\", \"zip_code\", \"house_size\", \"price\", \"sold_previously\", \"latitude\",\"longitude\") VALUES (?, ?, ?, ?, ?, ?, ?, ?, ?, ?, ?, ?)',\n",
    "                           (row[0], float(row[1]), float(row[2]), float(row[3]), row[4], row[5], row[6], float(row[7]), float(row[8]), float(row[9]), float(row[10]), float(row[11])))\n",
    "    \n",
    "    conn.commit()\n",
    "    conn.close()\n",
    "\n",
    "if __name__ == \"__main__\":\n",
    "    create_database()\n",
    "    # List of CSV file names\n",
    "    csv_directory = 'new_data'\n",
    "    csv_files = os.listdir(csv_directory)\n",
    "    \n",
    "    for csv_file in csv_files:\n",
    "        if csv_file.endswith(\".csv\"):\n",
    "            state_name = os.path.splitext(csv_file)[0]  # Extract state name from the filename\n",
    "            create_state_table(state_name)\n",
    "            csv_file_path = os.path.join(csv_directory, csv_file)\n",
    "            load_data_from_csv(csv_file_path, state_name)"
   ]
  },
  {
   "cell_type": "code",
   "execution_count": 3,
   "metadata": {},
   "outputs": [
    {
     "name": "stdout",
     "output_type": "stream",
     "text": [
      "Tables renamed successfully.\n"
     ]
    }
   ],
   "source": [
    "def rename_tables(database_path):\n",
    "    conn = sqlite3.connect(database_path)\n",
    "    cursor = conn.cursor()\n",
    "    \n",
    "    # Get the current table names\n",
    "    cursor.execute(\"SELECT name FROM sqlite_master WHERE type='table';\")\n",
    "    table_names = [table[0] for table in cursor.fetchall()]\n",
    "    \n",
    "    # Rename each table by removing the \"_properties\" suffix\n",
    "    for old_name in table_names:\n",
    "        new_name = old_name.replace(\"_properties\", \"\").lower()\n",
    "        if new_name != old_name:\n",
    "            cursor.execute(f\"ALTER TABLE {old_name} RENAME TO {new_name};\")\n",
    "    \n",
    "    conn.commit()\n",
    "    conn.close()\n",
    "\n",
    "if __name__ == \"__main__\":\n",
    "    database_path = 'Flask/new_database2.db'  # Update with your database file path\n",
    "    rename_tables(database_path)\n",
    "    print(\"Tables renamed successfully.\")"
   ]
  },
  {
   "cell_type": "code",
   "execution_count": 4,
   "metadata": {},
   "outputs": [
    {
     "name": "stdout",
     "output_type": "stream",
     "text": [
      "Table Names:\n",
      "connecticut\n",
      "maine\n",
      "massachusetts\n",
      "newhampshire\n",
      "newjersey\n",
      "newyork\n",
      "pennsylvania\n",
      "puertorico\n",
      "rhodeisland\n",
      "vermont\n"
     ]
    }
   ],
   "source": [
    "def get_table_names(database_path):\n",
    "    conn = sqlite3.connect(database_path)\n",
    "    cursor = conn.cursor()\n",
    "    \n",
    "    # Query to get table names\n",
    "    cursor.execute(\"SELECT name FROM sqlite_master WHERE type='table';\")\n",
    "    \n",
    "    table_names = [table[0] for table in cursor.fetchall()]\n",
    "    \n",
    "    conn.close()\n",
    "    \n",
    "    return table_names\n",
    "\n",
    "if __name__ == \"__main__\":\n",
    "    database_path = 'Flask/new_database2.db'  \n",
    "    table_names = get_table_names(database_path)\n",
    "    \n",
    "    print(\"Table Names:\")\n",
    "    for table_name in table_names:\n",
    "        print(table_name)"
   ]
  },
  {
   "cell_type": "code",
   "execution_count": 5,
   "metadata": {},
   "outputs": [],
   "source": [
    "engine = create_engine(\"sqlite:///combinedstates.sqlite\")\n",
    "conn = engine.connect()"
   ]
  },
  {
   "cell_type": "code",
   "execution_count": 10,
   "metadata": {},
   "outputs": [],
   "source": [
    "def read_data_from_database():\n",
    "    # Connect to the database\n",
    "    conn = sqlite3.connect('Flask/new_database2.db')\n",
    "    cursor = conn.cursor()\n",
    "    # Execute a SELECT query\n",
    "    cursor.execute('SELECT \"ID\",\"bed\",\"bath\",\"acre_lot\", \"city\", \"state\", \"zip_code\", \"house_size\", \"price\", \"sold_previously\", \"latitude\",\"longitude\" FROM connecticut')\n",
    "    # Fetch all results\n",
    "    users = cursor.fetchall()\n",
    "    # Close the connection\n",
    "    conn.close()\n",
    "    return users\n",
    "if __name__ == \"__main__\":\n",
    "    users_data = read_data_from_database()\n",
    "    "
   ]
  },
  {
   "cell_type": "code",
   "execution_count": 11,
   "metadata": {},
   "outputs": [
    {
     "data": {
      "text/plain": [
       "'Meriden'"
      ]
     },
     "execution_count": 11,
     "metadata": {},
     "output_type": "execute_result"
    }
   ],
   "source": [
    "users_data[46000][4]"
   ]
  },
  {
   "cell_type": "code",
   "execution_count": 8,
   "metadata": {},
   "outputs": [],
   "source": [
    "conn.close()"
   ]
  },
  {
   "cell_type": "markdown",
   "metadata": {},
   "source": []
  }
 ],
 "metadata": {
  "kernelspec": {
   "display_name": "base",
   "language": "python",
   "name": "python3"
  },
  "language_info": {
   "codemirror_mode": {
    "name": "ipython",
    "version": 3
   },
   "file_extension": ".py",
   "mimetype": "text/x-python",
   "name": "python",
   "nbconvert_exporter": "python",
   "pygments_lexer": "ipython3",
   "version": "3.10.12"
  },
  "orig_nbformat": 4
 },
 "nbformat": 4,
 "nbformat_minor": 2
}
