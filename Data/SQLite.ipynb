{
 "cells": [
  {
   "cell_type": "code",
   "execution_count": 11,
   "metadata": {},
   "outputs": [],
   "source": [
    "import sqlalchemy\n",
    "from sqlalchemy.ext.automap import automap_base\n",
    "from sqlalchemy.orm import Session\n",
    "from sqlalchemy import create_engine, func\n",
    "import os\n",
    "import sqlite3\n",
    "import csv\n"
   ]
  },
  {
   "cell_type": "code",
   "execution_count": 12,
   "metadata": {},
   "outputs": [],
   "source": [
    "# Function to sanitize a string for SQLite table name\n",
    "def sanitize_table_name(name):\n",
    "    return ''.join(c for c in name if c.isalnum() or c == '_')\n",
    "\n",
    "def create_database():\n",
    "    # Connect to the database (or create it)\n",
    "    conn = sqlite3.connect('new_database2.db')\n",
    "    cursor = conn.cursor()\n",
    "    conn.commit()\n",
    "\n",
    "def create_state_table(state):\n",
    "    # Connect to the database\n",
    "    conn = sqlite3.connect('new_database2.db')\n",
    "    cursor = conn.cursor()\n",
    "    \n",
    "    # Sanitize the state name to make it a valid table name\n",
    "    state_table_name = sanitize_table_name(state)\n",
    "    \n",
    "    # Create a table for the state if it doesn't exist\n",
    "    cursor.execute(f'''\n",
    "    CREATE TABLE IF NOT EXISTS {state_table_name} (\n",
    "        ID TEXT NOT NULL,\n",
    "        bed REAL NOT NULL,\n",
    "        bath REAL NOT NULL,\n",
    "        acre_lot REAL NOT NULL,\n",
    "        city TEXT NOT NULL,\n",
    "        state TEXT NOT NULL,\n",
    "        zip_code TEXT NOT NULL,\n",
    "        house_size REAL NOT NULL,\n",
    "        price REAL NULL,\n",
    "        sold_previously REAL NOT NULL,\n",
    "        latitude REAL NOT NULL,\n",
    "        longitude REAL NOT NULL\n",
    "    )\n",
    "    ''')\n",
    "    \n",
    "    conn.commit()\n",
    "    conn.close()\n",
    "\n",
    "def load_data_from_csv(csv_file, state):\n",
    "    # Connect to the database\n",
    "    conn = sqlite3.connect('new_database2.db')\n",
    "    cursor = conn.cursor()\n",
    "    \n",
    "    # Open and read the CSV file\n",
    "    with open(csv_file, 'r') as file:\n",
    "        reader = csv.reader(file)\n",
    "        next(reader)  # Skip the header row\n",
    "        for row in reader:\n",
    "            cursor.execute(f'INSERT INTO {sanitize_table_name(state)} (\"ID\",\"bed\",\"bath\",\"acre_lot\", \"city\", \"state\", \"zip_code\", \"house_size\", \"price\", \"sold_previously\", \"latitude\",\"longitude\") VALUES (?, ?, ?, ?, ?, ?, ?, ?, ?, ?, ?, ?)',\n",
    "                           (row[0], float(row[1]), float(row[2]), float(row[3]), row[4], row[5], row[6], float(row[7]), float(row[8]), float(row[9]), float(row[10]), float(row[11])))\n",
    "    \n",
    "    conn.commit()\n",
    "    conn.close()\n",
    "\n",
    "if __name__ == \"__main__\":\n",
    "    create_database()\n",
    "    # List of CSV file names\n",
    "    csv_directory = 'new_data'\n",
    "    csv_files = os.listdir(csv_directory)\n",
    "    \n",
    "    for csv_file in csv_files:\n",
    "        if csv_file.endswith(\".csv\"):\n",
    "            state_name = os.path.splitext(csv_file)[0]  # Extract state name from the filename\n",
    "            create_state_table(state_name)\n",
    "            csv_file_path = os.path.join(csv_directory, csv_file)\n",
    "            load_data_from_csv(csv_file_path, state_name)"
   ]
  },
  {
   "cell_type": "code",
   "execution_count": 14,
   "metadata": {},
   "outputs": [
    {
     "ename": "OperationalError",
     "evalue": "there is already another table or index with this name: Connecticut",
     "output_type": "error",
     "traceback": [
      "\u001b[1;31m---------------------------------------------------------------------------\u001b[0m",
      "\u001b[1;31mOperationalError\u001b[0m                          Traceback (most recent call last)",
      "\u001b[1;32mc:\\Users\\fial_\\OneDrive\\Escritorio\\FinalProject-4\\project-4-service-providers\\Data\\SQLite.ipynb Cell 3\u001b[0m line \u001b[0;36m2\n\u001b[0;32m     <a href='vscode-notebook-cell:/c%3A/Users/fial_/OneDrive/Escritorio/FinalProject-4/project-4-service-providers/Data/SQLite.ipynb#W2sZmlsZQ%3D%3D?line=17'>18</a>\u001b[0m \u001b[39mif\u001b[39;00m \u001b[39m__name__\u001b[39m \u001b[39m==\u001b[39m \u001b[39m\"\u001b[39m\u001b[39m__main__\u001b[39m\u001b[39m\"\u001b[39m:\n\u001b[0;32m     <a href='vscode-notebook-cell:/c%3A/Users/fial_/OneDrive/Escritorio/FinalProject-4/project-4-service-providers/Data/SQLite.ipynb#W2sZmlsZQ%3D%3D?line=18'>19</a>\u001b[0m     database_path \u001b[39m=\u001b[39m \u001b[39m'\u001b[39m\u001b[39mnew_database2.db\u001b[39m\u001b[39m'\u001b[39m  \u001b[39m# Update with your database file path\u001b[39;00m\n\u001b[1;32m---> <a href='vscode-notebook-cell:/c%3A/Users/fial_/OneDrive/Escritorio/FinalProject-4/project-4-service-providers/Data/SQLite.ipynb#W2sZmlsZQ%3D%3D?line=19'>20</a>\u001b[0m     rename_tables(database_path)\n\u001b[0;32m     <a href='vscode-notebook-cell:/c%3A/Users/fial_/OneDrive/Escritorio/FinalProject-4/project-4-service-providers/Data/SQLite.ipynb#W2sZmlsZQ%3D%3D?line=20'>21</a>\u001b[0m     \u001b[39mprint\u001b[39m(\u001b[39m\"\u001b[39m\u001b[39mTables renamed successfully.\u001b[39m\u001b[39m\"\u001b[39m)\n",
      "\u001b[1;32mc:\\Users\\fial_\\OneDrive\\Escritorio\\FinalProject-4\\project-4-service-providers\\Data\\SQLite.ipynb Cell 3\u001b[0m line \u001b[0;36m1\n\u001b[0;32m     <a href='vscode-notebook-cell:/c%3A/Users/fial_/OneDrive/Escritorio/FinalProject-4/project-4-service-providers/Data/SQLite.ipynb#W2sZmlsZQ%3D%3D?line=10'>11</a>\u001b[0m     new_name \u001b[39m=\u001b[39m old_name\u001b[39m.\u001b[39mreplace(\u001b[39m\"\u001b[39m\u001b[39m_properties\u001b[39m\u001b[39m\"\u001b[39m, \u001b[39m\"\u001b[39m\u001b[39m\"\u001b[39m)\n\u001b[0;32m     <a href='vscode-notebook-cell:/c%3A/Users/fial_/OneDrive/Escritorio/FinalProject-4/project-4-service-providers/Data/SQLite.ipynb#W2sZmlsZQ%3D%3D?line=11'>12</a>\u001b[0m     \u001b[39mif\u001b[39;00m new_name \u001b[39m!=\u001b[39m old_name:\n\u001b[1;32m---> <a href='vscode-notebook-cell:/c%3A/Users/fial_/OneDrive/Escritorio/FinalProject-4/project-4-service-providers/Data/SQLite.ipynb#W2sZmlsZQ%3D%3D?line=12'>13</a>\u001b[0m         cursor\u001b[39m.\u001b[39;49mexecute(\u001b[39mf\u001b[39;49m\u001b[39m\"\u001b[39;49m\u001b[39mALTER TABLE \u001b[39;49m\u001b[39m{\u001b[39;49;00mold_name\u001b[39m}\u001b[39;49;00m\u001b[39m RENAME TO \u001b[39;49m\u001b[39m{\u001b[39;49;00mnew_name\u001b[39m}\u001b[39;49;00m\u001b[39m;\u001b[39;49m\u001b[39m\"\u001b[39;49m)\n\u001b[0;32m     <a href='vscode-notebook-cell:/c%3A/Users/fial_/OneDrive/Escritorio/FinalProject-4/project-4-service-providers/Data/SQLite.ipynb#W2sZmlsZQ%3D%3D?line=14'>15</a>\u001b[0m conn\u001b[39m.\u001b[39mcommit()\n\u001b[0;32m     <a href='vscode-notebook-cell:/c%3A/Users/fial_/OneDrive/Escritorio/FinalProject-4/project-4-service-providers/Data/SQLite.ipynb#W2sZmlsZQ%3D%3D?line=15'>16</a>\u001b[0m conn\u001b[39m.\u001b[39mclose()\n",
      "\u001b[1;31mOperationalError\u001b[0m: there is already another table or index with this name: Connecticut"
     ]
    }
   ],
   "source": [
    "def rename_tables(database_path):\n",
    "    conn = sqlite3.connect(database_path)\n",
    "    cursor = conn.cursor()\n",
    "    \n",
    "    # Get the current table names\n",
    "    cursor.execute(\"SELECT name FROM sqlite_master WHERE type='table';\")\n",
    "    table_names = [table[0] for table in cursor.fetchall()]\n",
    "    \n",
    "    # Rename each table by removing the \"_properties\" suffix\n",
    "    for old_name in table_names:\n",
    "        new_name = old_name.replace(\"_properties\", \"\")\n",
    "        if new_name != old_name:\n",
    "            cursor.execute(f\"ALTER TABLE {old_name} RENAME TO {new_name};\")\n",
    "    \n",
    "    conn.commit()\n",
    "    conn.close()\n",
    "\n",
    "if __name__ == \"__main__\":\n",
    "    database_path = 'new_database2.db'  # Update with your database file path\n",
    "    rename_tables(database_path)\n",
    "    print(\"Tables renamed successfully.\")"
   ]
  },
  {
   "cell_type": "code",
   "execution_count": 15,
   "metadata": {},
   "outputs": [
    {
     "name": "stdout",
     "output_type": "stream",
     "text": [
      "Table Names:\n",
      "Connecticut\n",
      "Connecticut_properties\n",
      "Maine_properties\n",
      "Massachusetts_properties\n",
      "NewHampshire_properties\n",
      "NewJersey_properties\n",
      "NewYork_properties\n",
      "Pennsylvania_properties\n",
      "PuertoRico_properties\n",
      "RhodeIsland_properties\n",
      "Vermont_properties\n"
     ]
    }
   ],
   "source": [
    "def get_table_names(database_path):\n",
    "    conn = sqlite3.connect(database_path)\n",
    "    cursor = conn.cursor()\n",
    "    \n",
    "    # Query to get table names\n",
    "    cursor.execute(\"SELECT name FROM sqlite_master WHERE type='table';\")\n",
    "    \n",
    "    table_names = [table[0] for table in cursor.fetchall()]\n",
    "    \n",
    "    conn.close()\n",
    "    \n",
    "    return table_names\n",
    "\n",
    "if __name__ == \"__main__\":\n",
    "    database_path = 'new_database2.db'  # Update with your database file path\n",
    "    table_names = get_table_names(database_path)\n",
    "    \n",
    "    print(\"Table Names:\")\n",
    "    for table_name in table_names:\n",
    "        print(table_name)"
   ]
  },
  {
   "cell_type": "code",
   "execution_count": null,
   "metadata": {},
   "outputs": [],
   "source": [
    "# def create_database():\n",
    "#     # Connect to the database (or create it)\n",
    "#     conn = sqlite3.connect('new_database2.db')\n",
    "#     cursor = conn.cursor()\n",
    "#     # Create a table named 'data' with updated data types\n",
    "#     cursor.execute('''\n",
    "#     CREATE TABLE IF NOT EXISTS data (\n",
    "#         ID TEXT NOT NULL,\n",
    "#         bed REAL NOT NULL,\n",
    "#         bath REAL NOT NULL,\n",
    "#         acre_lot REAL NOT NULL,\n",
    "#         city TEXT NOT NULL,\n",
    "#         state TEXT NOT NULL,\n",
    "#         zip_code TEXT NOT NULL,\n",
    "#         house_size REAL NOT NULL,\n",
    "#         price REAL NULL,\n",
    "#         sold_previously REAL NOT NULL,\n",
    "#         latitude REAL NOT NULL,\n",
    "#         longitude REAL NOT NULL\n",
    "#     )\n",
    "#     ''')\n",
    "#     # Commit changes and close the connection\n",
    "#     conn.commit()\n",
    "#     conn.close()\n",
    "# def load_data_from_csv(csv_file):\n",
    "#     # Connect to the database\n",
    "#     conn = sqlite3.connect('new_database2.db')\n",
    "#     cursor = conn.cursor()\n",
    "#     # Open and read the CSV file\n",
    "#     with open(csv_file, 'r') as file:\n",
    "#         reader = csv.reader(file)\n",
    "#         next(reader)  # Skip the header row\n",
    "#         for row in reader:\n",
    "#             cursor.execute('INSERT INTO data (\"ID\",\"bed\",\"bath\",\"acre_lot\", \"city\", \"state\", \"zip_code\", \"house_size\", \"price\", \"sold_previously\", \"latitude\",\"longitude\") VALUES (?, ?, ?, ?, ?, ?, ?, ?, ?, ?, ?, ?)',\n",
    "#                            (row[0], float(row[1]), float(row[2]), float(row[3]), row[4], row[5], row[6], float(row[7]), float(row[8]), float(row[9]), float(row[10]), float(row[11])))\n",
    "#     # Commit changes and close the connection\n",
    "#     conn.commit()\n",
    "#     conn.close()\n",
    "if __name__ == \"__main__\":\n",
    "    create_database()\n",
    "    # List of CSV file names\n",
    "    csv_files = [\n",
    "        'new_data/Connecticut_properties.csv',\n",
    "        'new_data/Maine_properties.csv',\n",
    "        'new_data/Massachusetts_properties.csv',\n",
    "        'new_data/New Hampshire_properties.csv',\n",
    "        'new_data/New Jersey_properties.csv',\n",
    "        'new_data/New York_properties.csv',\n",
    "        'new_data/Pennsylvania_properties.csv',\n",
    "        'new_data/Puerto Rico_properties.csv',\n",
    "        'new_data/Rhode Island_properties.csv',\n",
    "        'new_data/Vermont_properties.csv'\n",
    "    ]\n",
    "    # Load data into the 'data' table\n",
    "    for csv_file in csv_files:\n",
    "        load_data_from_csv(csv_file)\n",
    "\n"
   ]
  },
  {
   "cell_type": "code",
   "execution_count": null,
   "metadata": {},
   "outputs": [],
   "source": [
    "engine = create_engine(\"sqlite:///combinedstates.sqlite\")\n",
    "conn = engine.connect()"
   ]
  },
  {
   "cell_type": "code",
   "execution_count": null,
   "metadata": {},
   "outputs": [
    {
     "ename": "OperationalError",
     "evalue": "no such table: data",
     "output_type": "error",
     "traceback": [
      "\u001b[1;31m---------------------------------------------------------------------------\u001b[0m",
      "\u001b[1;31mOperationalError\u001b[0m                          Traceback (most recent call last)",
      "\u001b[1;32mc:\\Users\\fial_\\OneDrive\\Escritorio\\FinalProject-4\\project-4-service-providers\\Data\\SQLite.ipynb Cell 7\u001b[0m line \u001b[0;36m1\n\u001b[0;32m     <a href='vscode-notebook-cell:/c%3A/Users/fial_/OneDrive/Escritorio/FinalProject-4/project-4-service-providers/Data/SQLite.ipynb#W6sZmlsZQ%3D%3D?line=10'>11</a>\u001b[0m     \u001b[39mreturn\u001b[39;00m users\n\u001b[0;32m     <a href='vscode-notebook-cell:/c%3A/Users/fial_/OneDrive/Escritorio/FinalProject-4/project-4-service-providers/Data/SQLite.ipynb#W6sZmlsZQ%3D%3D?line=11'>12</a>\u001b[0m \u001b[39mif\u001b[39;00m \u001b[39m__name__\u001b[39m \u001b[39m==\u001b[39m \u001b[39m\"\u001b[39m\u001b[39m__main__\u001b[39m\u001b[39m\"\u001b[39m:\n\u001b[1;32m---> <a href='vscode-notebook-cell:/c%3A/Users/fial_/OneDrive/Escritorio/FinalProject-4/project-4-service-providers/Data/SQLite.ipynb#W6sZmlsZQ%3D%3D?line=12'>13</a>\u001b[0m     users_data \u001b[39m=\u001b[39m read_data_from_database()\n",
      "\u001b[1;32mc:\\Users\\fial_\\OneDrive\\Escritorio\\FinalProject-4\\project-4-service-providers\\Data\\SQLite.ipynb Cell 7\u001b[0m line \u001b[0;36m6\n\u001b[0;32m      <a href='vscode-notebook-cell:/c%3A/Users/fial_/OneDrive/Escritorio/FinalProject-4/project-4-service-providers/Data/SQLite.ipynb#W6sZmlsZQ%3D%3D?line=3'>4</a>\u001b[0m cursor \u001b[39m=\u001b[39m conn\u001b[39m.\u001b[39mcursor()\n\u001b[0;32m      <a href='vscode-notebook-cell:/c%3A/Users/fial_/OneDrive/Escritorio/FinalProject-4/project-4-service-providers/Data/SQLite.ipynb#W6sZmlsZQ%3D%3D?line=4'>5</a>\u001b[0m \u001b[39m# Execute a SELECT query\u001b[39;00m\n\u001b[1;32m----> <a href='vscode-notebook-cell:/c%3A/Users/fial_/OneDrive/Escritorio/FinalProject-4/project-4-service-providers/Data/SQLite.ipynb#W6sZmlsZQ%3D%3D?line=5'>6</a>\u001b[0m cursor\u001b[39m.\u001b[39;49mexecute(\u001b[39m'\u001b[39;49m\u001b[39mSELECT \u001b[39;49m\u001b[39m\"\u001b[39;49m\u001b[39mID\u001b[39;49m\u001b[39m\"\u001b[39;49m\u001b[39m,\u001b[39;49m\u001b[39m\"\u001b[39;49m\u001b[39mbed\u001b[39;49m\u001b[39m\"\u001b[39;49m\u001b[39m,\u001b[39;49m\u001b[39m\"\u001b[39;49m\u001b[39mbath\u001b[39;49m\u001b[39m\"\u001b[39;49m\u001b[39m,\u001b[39;49m\u001b[39m\"\u001b[39;49m\u001b[39macre_lot\u001b[39;49m\u001b[39m\"\u001b[39;49m\u001b[39m, \u001b[39;49m\u001b[39m\"\u001b[39;49m\u001b[39mcity\u001b[39;49m\u001b[39m\"\u001b[39;49m\u001b[39m, \u001b[39;49m\u001b[39m\"\u001b[39;49m\u001b[39mstate\u001b[39;49m\u001b[39m\"\u001b[39;49m\u001b[39m, \u001b[39;49m\u001b[39m\"\u001b[39;49m\u001b[39mzip_code\u001b[39;49m\u001b[39m\"\u001b[39;49m\u001b[39m, \u001b[39;49m\u001b[39m\"\u001b[39;49m\u001b[39mhouse_size\u001b[39;49m\u001b[39m\"\u001b[39;49m\u001b[39m, \u001b[39;49m\u001b[39m\"\u001b[39;49m\u001b[39mprice\u001b[39;49m\u001b[39m\"\u001b[39;49m\u001b[39m, \u001b[39;49m\u001b[39m\"\u001b[39;49m\u001b[39msold_previously\u001b[39;49m\u001b[39m\"\u001b[39;49m\u001b[39m, \u001b[39;49m\u001b[39m\"\u001b[39;49m\u001b[39mlatitude\u001b[39;49m\u001b[39m\"\u001b[39;49m\u001b[39m,\u001b[39;49m\u001b[39m\"\u001b[39;49m\u001b[39mlongitude\u001b[39;49m\u001b[39m\"\u001b[39;49m\u001b[39m FROM data\u001b[39;49m\u001b[39m'\u001b[39;49m)\n\u001b[0;32m      <a href='vscode-notebook-cell:/c%3A/Users/fial_/OneDrive/Escritorio/FinalProject-4/project-4-service-providers/Data/SQLite.ipynb#W6sZmlsZQ%3D%3D?line=6'>7</a>\u001b[0m \u001b[39m# Fetch all results\u001b[39;00m\n\u001b[0;32m      <a href='vscode-notebook-cell:/c%3A/Users/fial_/OneDrive/Escritorio/FinalProject-4/project-4-service-providers/Data/SQLite.ipynb#W6sZmlsZQ%3D%3D?line=7'>8</a>\u001b[0m users \u001b[39m=\u001b[39m cursor\u001b[39m.\u001b[39mfetchall()\n",
      "\u001b[1;31mOperationalError\u001b[0m: no such table: data"
     ]
    }
   ],
   "source": [
    "def read_data_from_database():\n",
    "    # Connect to the database\n",
    "    conn = sqlite3.connect('new_database2.db')\n",
    "    cursor = conn.cursor()\n",
    "    # Execute a SELECT query\n",
    "    cursor.execute('SELECT \"ID\",\"bed\",\"bath\",\"acre_lot\", \"city\", \"state\", \"zip_code\", \"house_size\", \"price\", \"sold_previously\", \"latitude\",\"longitude\" FROM data')\n",
    "    # Fetch all results\n",
    "    users = cursor.fetchall()\n",
    "    # Close the connection\n",
    "    conn.close()\n",
    "    return users\n",
    "if __name__ == \"__main__\":\n",
    "    users_data = read_data_from_database()\n",
    "    "
   ]
  },
  {
   "cell_type": "code",
   "execution_count": null,
   "metadata": {},
   "outputs": [
    {
     "data": {
      "text/plain": [
       "'Conne1'"
      ]
     },
     "execution_count": 8,
     "metadata": {},
     "output_type": "execute_result"
    }
   ],
   "source": [
    "users_data[0][0]"
   ]
  },
  {
   "cell_type": "code",
   "execution_count": null,
   "metadata": {},
   "outputs": [],
   "source": [
    "conn.close()"
   ]
  },
  {
   "cell_type": "markdown",
   "metadata": {},
   "source": []
  }
 ],
 "metadata": {
  "kernelspec": {
   "display_name": "base",
   "language": "python",
   "name": "python3"
  },
  "language_info": {
   "codemirror_mode": {
    "name": "ipython",
    "version": 3
   },
   "file_extension": ".py",
   "mimetype": "text/x-python",
   "name": "python",
   "nbconvert_exporter": "python",
   "pygments_lexer": "ipython3",
   "version": "3.10.12"
  },
  "orig_nbformat": 4
 },
 "nbformat": 4,
 "nbformat_minor": 2
}
