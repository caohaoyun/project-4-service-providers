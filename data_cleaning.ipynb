{
 "cells": [
  {
   "cell_type": "code",
   "execution_count": 140,
   "metadata": {},
   "outputs": [],
   "source": [
    "#Imports\n",
    "import pandas as pd\n",
    "import os\n",
    "from sklearn.linear_model import LinearRegression\n"
   ]
  },
  {
   "cell_type": "code",
   "execution_count": 141,
   "metadata": {},
   "outputs": [],
   "source": [
    "# Read the CSV file into a DataFrame\n",
    "allproperties = pd.read_csv('Data/original_data/realtor-data.zip.csv')\n",
    "#allproperties.dtypes"
   ]
  },
  {
   "cell_type": "code",
   "execution_count": 142,
   "metadata": {},
   "outputs": [],
   "source": [
    "# Add the 'sold_previously' column based on 'prev_sold_date'\n",
    "allproperties['sold_previously'] = allproperties['prev_sold_date'].notna().astype(int)\n",
    "# Drop the 'prev_sold_date' column\n",
    "allproperties = allproperties.drop(columns=['prev_sold_date', 'status'])\n",
    "# Fill missing values in 'bed' and 'bath' columns with 1\n",
    "allproperties['bed'].fillna(1, inplace=True)\n",
    "allproperties['bath'].fillna(1, inplace=True)\n",
    "# Drop rows with NaNs in the 'zip_code' column\n",
    "allproperties.dropna(subset=['zip_code', 'price', 'city'], inplace=True)"
   ]
  },
  {
   "cell_type": "code",
   "execution_count": 143,
   "metadata": {},
   "outputs": [
    {
     "name": "stdout",
     "output_type": "stream",
     "text": [
      "Skipped Virgin Islands_properties.csv with 2522 rows (less than 15,000).\n",
      "Skipped South Carolina_properties.csv with 25 rows (less than 15,000).\n",
      "Skipped Tennessee_properties.csv with 20 rows (less than 15,000).\n",
      "Skipped Virginia_properties.csv with 31 rows (less than 15,000).\n",
      "Skipped Wyoming_properties.csv with 3 rows (less than 15,000).\n",
      "Skipped Georgia_properties.csv with 50 rows (less than 15,000).\n",
      "Skipped West Virginia_properties.csv with 3 rows (less than 15,000).\n",
      "Skipped Delaware_properties.csv with 2129 rows (less than 15,000).\n"
     ]
    }
   ],
   "source": [
    "#new data directory\n",
    "output_dir = 'Data/new_data'\n",
    "os.makedirs(output_dir, exist_ok=True)\n",
    "\n",
    "# Minimum number of rows required (15,000 in this case)\n",
    "min_rows = 15000\n",
    "\n",
    "# Loop through unique states and create separate CSV files\n",
    "unique_states = allproperties['state'].unique()\n",
    "for state in unique_states:\n",
    "    state_df = allproperties[allproperties['state'] == state]\n",
    "\n",
    "    # Check the number of rows in the DataFrame\n",
    "    num_rows = len(state_df)\n",
    "\n",
    "    # Only save the file if it has over 15,000 rows\n",
    "    if num_rows >= min_rows:\n",
    "        output_file = os.path.join(output_dir, f'{state}_properties.csv')\n",
    "        state_df.to_csv(output_file, index=False)\n",
    "    else:\n",
    "        print(f\"Skipped {state}_properties.csv with {num_rows} rows (less than 15,000).\")"
   ]
  },
  {
   "cell_type": "code",
   "execution_count": 151,
   "metadata": {},
   "outputs": [],
   "source": [
    "# Directory containing the newly created CSV files\n",
    "input_dir = 'Data/new_data'\n",
    "\n",
    "# Function to generate unique IDs\n",
    "def generate_ids(df):\n",
    "    state = df['state'].iloc[0][:5].replace(' ', '')  # Get the first 4 letters of the state\n",
    "    df['ID'] = state + df.groupby('state').cumcount().add(1).astype(str)\n",
    "    return df.set_index('ID')  # Set the 'ID' column as the index\n",
    "\n",
    "# Loop through the CSV files\n",
    "for filename in os.listdir(input_dir):\n",
    "    if filename.endswith('.csv'):\n",
    "        # Read the CSV file into a DataFrame\n",
    "        filepath = os.path.join(input_dir, filename)\n",
    "        df = pd.read_csv(filepath)\n",
    "        \n",
    "        # Add the ID column and set it as the index\n",
    "        df = generate_ids(df)\n",
    "        \n",
    "        # Save the DataFrame back to the CSV file with the ID as the index\n",
    "        df.to_csv(filepath)"
   ]
  },
  {
   "cell_type": "code",
   "execution_count": 145,
   "metadata": {},
   "outputs": [
    {
     "name": "stderr",
     "output_type": "stream",
     "text": [
      "C:\\Users\\fial_\\AppData\\Local\\Temp\\ipykernel_13452\\1180397506.py:28: SettingWithCopyWarning: \n",
      "A value is trying to be set on a copy of a slice from a DataFrame.\n",
      "Try using .loc[row_indexer,col_indexer] = value instead\n",
      "\n",
      "See the caveats in the documentation: https://pandas.pydata.org/pandas-docs/stable/user_guide/indexing.html#returning-a-view-versus-a-copy\n",
      "  nan_data['house_size'] = model.predict(nan_X)\n",
      "C:\\Users\\fial_\\AppData\\Local\\Temp\\ipykernel_13452\\1180397506.py:31: SettingWithCopyWarning: \n",
      "A value is trying to be set on a copy of a slice from a DataFrame.\n",
      "Try using .loc[row_indexer,col_indexer] = value instead\n",
      "\n",
      "See the caveats in the documentation: https://pandas.pydata.org/pandas-docs/stable/user_guide/indexing.html#returning-a-view-versus-a-copy\n",
      "  nan_data['house_size'] = nan_data['house_size'].round()\n"
     ]
    },
    {
     "name": "stdout",
     "output_type": "stream",
     "text": [
      "Filled \"house_size\" for Connecticut_properties.csv.\n"
     ]
    },
    {
     "name": "stderr",
     "output_type": "stream",
     "text": [
      "C:\\Users\\fial_\\AppData\\Local\\Temp\\ipykernel_13452\\1180397506.py:28: SettingWithCopyWarning: \n",
      "A value is trying to be set on a copy of a slice from a DataFrame.\n",
      "Try using .loc[row_indexer,col_indexer] = value instead\n",
      "\n",
      "See the caveats in the documentation: https://pandas.pydata.org/pandas-docs/stable/user_guide/indexing.html#returning-a-view-versus-a-copy\n",
      "  nan_data['house_size'] = model.predict(nan_X)\n",
      "C:\\Users\\fial_\\AppData\\Local\\Temp\\ipykernel_13452\\1180397506.py:31: SettingWithCopyWarning: \n",
      "A value is trying to be set on a copy of a slice from a DataFrame.\n",
      "Try using .loc[row_indexer,col_indexer] = value instead\n",
      "\n",
      "See the caveats in the documentation: https://pandas.pydata.org/pandas-docs/stable/user_guide/indexing.html#returning-a-view-versus-a-copy\n",
      "  nan_data['house_size'] = nan_data['house_size'].round()\n"
     ]
    },
    {
     "name": "stdout",
     "output_type": "stream",
     "text": [
      "Filled \"house_size\" for Maine_properties.csv.\n"
     ]
    },
    {
     "name": "stderr",
     "output_type": "stream",
     "text": [
      "C:\\Users\\fial_\\AppData\\Local\\Temp\\ipykernel_13452\\1180397506.py:28: SettingWithCopyWarning: \n",
      "A value is trying to be set on a copy of a slice from a DataFrame.\n",
      "Try using .loc[row_indexer,col_indexer] = value instead\n",
      "\n",
      "See the caveats in the documentation: https://pandas.pydata.org/pandas-docs/stable/user_guide/indexing.html#returning-a-view-versus-a-copy\n",
      "  nan_data['house_size'] = model.predict(nan_X)\n",
      "C:\\Users\\fial_\\AppData\\Local\\Temp\\ipykernel_13452\\1180397506.py:31: SettingWithCopyWarning: \n",
      "A value is trying to be set on a copy of a slice from a DataFrame.\n",
      "Try using .loc[row_indexer,col_indexer] = value instead\n",
      "\n",
      "See the caveats in the documentation: https://pandas.pydata.org/pandas-docs/stable/user_guide/indexing.html#returning-a-view-versus-a-copy\n",
      "  nan_data['house_size'] = nan_data['house_size'].round()\n"
     ]
    },
    {
     "name": "stdout",
     "output_type": "stream",
     "text": [
      "Filled \"house_size\" for Massachusetts_properties.csv.\n"
     ]
    },
    {
     "name": "stderr",
     "output_type": "stream",
     "text": [
      "C:\\Users\\fial_\\AppData\\Local\\Temp\\ipykernel_13452\\1180397506.py:28: SettingWithCopyWarning: \n",
      "A value is trying to be set on a copy of a slice from a DataFrame.\n",
      "Try using .loc[row_indexer,col_indexer] = value instead\n",
      "\n",
      "See the caveats in the documentation: https://pandas.pydata.org/pandas-docs/stable/user_guide/indexing.html#returning-a-view-versus-a-copy\n",
      "  nan_data['house_size'] = model.predict(nan_X)\n",
      "C:\\Users\\fial_\\AppData\\Local\\Temp\\ipykernel_13452\\1180397506.py:31: SettingWithCopyWarning: \n",
      "A value is trying to be set on a copy of a slice from a DataFrame.\n",
      "Try using .loc[row_indexer,col_indexer] = value instead\n",
      "\n",
      "See the caveats in the documentation: https://pandas.pydata.org/pandas-docs/stable/user_guide/indexing.html#returning-a-view-versus-a-copy\n",
      "  nan_data['house_size'] = nan_data['house_size'].round()\n"
     ]
    },
    {
     "name": "stdout",
     "output_type": "stream",
     "text": [
      "Filled \"house_size\" for New Hampshire_properties.csv.\n"
     ]
    },
    {
     "name": "stderr",
     "output_type": "stream",
     "text": [
      "C:\\Users\\fial_\\AppData\\Local\\Temp\\ipykernel_13452\\1180397506.py:28: SettingWithCopyWarning: \n",
      "A value is trying to be set on a copy of a slice from a DataFrame.\n",
      "Try using .loc[row_indexer,col_indexer] = value instead\n",
      "\n",
      "See the caveats in the documentation: https://pandas.pydata.org/pandas-docs/stable/user_guide/indexing.html#returning-a-view-versus-a-copy\n",
      "  nan_data['house_size'] = model.predict(nan_X)\n",
      "C:\\Users\\fial_\\AppData\\Local\\Temp\\ipykernel_13452\\1180397506.py:31: SettingWithCopyWarning: \n",
      "A value is trying to be set on a copy of a slice from a DataFrame.\n",
      "Try using .loc[row_indexer,col_indexer] = value instead\n",
      "\n",
      "See the caveats in the documentation: https://pandas.pydata.org/pandas-docs/stable/user_guide/indexing.html#returning-a-view-versus-a-copy\n",
      "  nan_data['house_size'] = nan_data['house_size'].round()\n"
     ]
    },
    {
     "name": "stdout",
     "output_type": "stream",
     "text": [
      "Filled \"house_size\" for New Jersey_properties.csv.\n"
     ]
    },
    {
     "name": "stderr",
     "output_type": "stream",
     "text": [
      "C:\\Users\\fial_\\AppData\\Local\\Temp\\ipykernel_13452\\1180397506.py:28: SettingWithCopyWarning: \n",
      "A value is trying to be set on a copy of a slice from a DataFrame.\n",
      "Try using .loc[row_indexer,col_indexer] = value instead\n",
      "\n",
      "See the caveats in the documentation: https://pandas.pydata.org/pandas-docs/stable/user_guide/indexing.html#returning-a-view-versus-a-copy\n",
      "  nan_data['house_size'] = model.predict(nan_X)\n",
      "C:\\Users\\fial_\\AppData\\Local\\Temp\\ipykernel_13452\\1180397506.py:31: SettingWithCopyWarning: \n",
      "A value is trying to be set on a copy of a slice from a DataFrame.\n",
      "Try using .loc[row_indexer,col_indexer] = value instead\n",
      "\n",
      "See the caveats in the documentation: https://pandas.pydata.org/pandas-docs/stable/user_guide/indexing.html#returning-a-view-versus-a-copy\n",
      "  nan_data['house_size'] = nan_data['house_size'].round()\n"
     ]
    },
    {
     "name": "stdout",
     "output_type": "stream",
     "text": [
      "Filled \"house_size\" for New York_properties.csv.\n",
      "Filled \"house_size\" for Pennsylvania_properties.csv.\n"
     ]
    },
    {
     "name": "stderr",
     "output_type": "stream",
     "text": [
      "C:\\Users\\fial_\\AppData\\Local\\Temp\\ipykernel_13452\\1180397506.py:28: SettingWithCopyWarning: \n",
      "A value is trying to be set on a copy of a slice from a DataFrame.\n",
      "Try using .loc[row_indexer,col_indexer] = value instead\n",
      "\n",
      "See the caveats in the documentation: https://pandas.pydata.org/pandas-docs/stable/user_guide/indexing.html#returning-a-view-versus-a-copy\n",
      "  nan_data['house_size'] = model.predict(nan_X)\n",
      "C:\\Users\\fial_\\AppData\\Local\\Temp\\ipykernel_13452\\1180397506.py:31: SettingWithCopyWarning: \n",
      "A value is trying to be set on a copy of a slice from a DataFrame.\n",
      "Try using .loc[row_indexer,col_indexer] = value instead\n",
      "\n",
      "See the caveats in the documentation: https://pandas.pydata.org/pandas-docs/stable/user_guide/indexing.html#returning-a-view-versus-a-copy\n",
      "  nan_data['house_size'] = nan_data['house_size'].round()\n",
      "C:\\Users\\fial_\\AppData\\Local\\Temp\\ipykernel_13452\\1180397506.py:28: SettingWithCopyWarning: \n",
      "A value is trying to be set on a copy of a slice from a DataFrame.\n",
      "Try using .loc[row_indexer,col_indexer] = value instead\n",
      "\n",
      "See the caveats in the documentation: https://pandas.pydata.org/pandas-docs/stable/user_guide/indexing.html#returning-a-view-versus-a-copy\n",
      "  nan_data['house_size'] = model.predict(nan_X)\n",
      "C:\\Users\\fial_\\AppData\\Local\\Temp\\ipykernel_13452\\1180397506.py:31: SettingWithCopyWarning: \n",
      "A value is trying to be set on a copy of a slice from a DataFrame.\n",
      "Try using .loc[row_indexer,col_indexer] = value instead\n",
      "\n",
      "See the caveats in the documentation: https://pandas.pydata.org/pandas-docs/stable/user_guide/indexing.html#returning-a-view-versus-a-copy\n",
      "  nan_data['house_size'] = nan_data['house_size'].round()\n"
     ]
    },
    {
     "name": "stdout",
     "output_type": "stream",
     "text": [
      "Filled \"house_size\" for Puerto Rico_properties.csv.\n"
     ]
    },
    {
     "name": "stderr",
     "output_type": "stream",
     "text": [
      "C:\\Users\\fial_\\AppData\\Local\\Temp\\ipykernel_13452\\1180397506.py:28: SettingWithCopyWarning: \n",
      "A value is trying to be set on a copy of a slice from a DataFrame.\n",
      "Try using .loc[row_indexer,col_indexer] = value instead\n",
      "\n",
      "See the caveats in the documentation: https://pandas.pydata.org/pandas-docs/stable/user_guide/indexing.html#returning-a-view-versus-a-copy\n",
      "  nan_data['house_size'] = model.predict(nan_X)\n",
      "C:\\Users\\fial_\\AppData\\Local\\Temp\\ipykernel_13452\\1180397506.py:31: SettingWithCopyWarning: \n",
      "A value is trying to be set on a copy of a slice from a DataFrame.\n",
      "Try using .loc[row_indexer,col_indexer] = value instead\n",
      "\n",
      "See the caveats in the documentation: https://pandas.pydata.org/pandas-docs/stable/user_guide/indexing.html#returning-a-view-versus-a-copy\n",
      "  nan_data['house_size'] = nan_data['house_size'].round()\n"
     ]
    },
    {
     "name": "stdout",
     "output_type": "stream",
     "text": [
      "Filled \"house_size\" for Rhode Island_properties.csv.\n"
     ]
    },
    {
     "name": "stderr",
     "output_type": "stream",
     "text": [
      "C:\\Users\\fial_\\AppData\\Local\\Temp\\ipykernel_13452\\1180397506.py:28: SettingWithCopyWarning: \n",
      "A value is trying to be set on a copy of a slice from a DataFrame.\n",
      "Try using .loc[row_indexer,col_indexer] = value instead\n",
      "\n",
      "See the caveats in the documentation: https://pandas.pydata.org/pandas-docs/stable/user_guide/indexing.html#returning-a-view-versus-a-copy\n",
      "  nan_data['house_size'] = model.predict(nan_X)\n",
      "C:\\Users\\fial_\\AppData\\Local\\Temp\\ipykernel_13452\\1180397506.py:31: SettingWithCopyWarning: \n",
      "A value is trying to be set on a copy of a slice from a DataFrame.\n",
      "Try using .loc[row_indexer,col_indexer] = value instead\n",
      "\n",
      "See the caveats in the documentation: https://pandas.pydata.org/pandas-docs/stable/user_guide/indexing.html#returning-a-view-versus-a-copy\n",
      "  nan_data['house_size'] = nan_data['house_size'].round()\n"
     ]
    },
    {
     "name": "stdout",
     "output_type": "stream",
     "text": [
      "Filled \"house_size\" for Vermont_properties.csv.\n"
     ]
    }
   ],
   "source": [
    "# Loop through the CSV files\n",
    "for filename in os.listdir(input_dir):\n",
    "    if filename.endswith('.csv'):\n",
    "        # Read the CSV file into a DataFrame\n",
    "        filepath = os.path.join(input_dir, filename)\n",
    "        df = pd.read_csv(filepath)\n",
    "\n",
    "        # Check the number of rows in the DataFrame\n",
    "        num_rows = len(df)\n",
    "\n",
    "        # Only fill NaN values for files with over 15,000 rows\n",
    "        if num_rows >= min_rows:\n",
    "            # Filter data with non-NaN 'house_size'\n",
    "            valid_data = df.dropna(subset=['house_size'])\n",
    "\n",
    "            # Separate features (bed, bath) and target (house_size)\n",
    "            X = valid_data[['bed', 'bath']]\n",
    "            y = valid_data['house_size']\n",
    "\n",
    "            # Train a linear regression model\n",
    "            model = LinearRegression()\n",
    "            model.fit(X, y)\n",
    "\n",
    "            # Predict 'house_size' for rows with NaNs\n",
    "            nan_data = df[pd.isna(df['house_size'])]\n",
    "            if not nan_data.empty:\n",
    "                nan_X = nan_data[['bed', 'bath']]\n",
    "                nan_data['house_size'] = model.predict(nan_X)\n",
    "\n",
    "                # Round the predicted 'house_size' values to the nearest whole number\n",
    "                nan_data['house_size'] = nan_data['house_size'].round()\n",
    "\n",
    "                # Update the original DataFrame with filled 'house_size'\n",
    "                df.update(nan_data)\n",
    "\n",
    "                # Save the updated DataFrame back to the same CSV file\n",
    "                df.to_csv(filepath, index=False)\n",
    "                print(f'Filled \"house_size\" for {filename}.')"
   ]
  },
  {
   "cell_type": "code",
   "execution_count": 146,
   "metadata": {},
   "outputs": [
    {
     "name": "stderr",
     "output_type": "stream",
     "text": [
      "C:\\Users\\fial_\\AppData\\Local\\Temp\\ipykernel_13452\\3312049938.py:28: SettingWithCopyWarning: \n",
      "A value is trying to be set on a copy of a slice from a DataFrame.\n",
      "Try using .loc[row_indexer,col_indexer] = value instead\n",
      "\n",
      "See the caveats in the documentation: https://pandas.pydata.org/pandas-docs/stable/user_guide/indexing.html#returning-a-view-versus-a-copy\n",
      "  nan_data['acre_lot'] = model.predict(nan_X)\n",
      "C:\\Users\\fial_\\AppData\\Local\\Temp\\ipykernel_13452\\3312049938.py:31: SettingWithCopyWarning: \n",
      "A value is trying to be set on a copy of a slice from a DataFrame.\n",
      "Try using .loc[row_indexer,col_indexer] = value instead\n",
      "\n",
      "See the caveats in the documentation: https://pandas.pydata.org/pandas-docs/stable/user_guide/indexing.html#returning-a-view-versus-a-copy\n",
      "  nan_data['acre_lot'] = nan_data['acre_lot'].round(1)\n"
     ]
    },
    {
     "name": "stdout",
     "output_type": "stream",
     "text": [
      "Filled \"acre_lot\" for Connecticut_properties.csv.\n"
     ]
    },
    {
     "name": "stderr",
     "output_type": "stream",
     "text": [
      "C:\\Users\\fial_\\AppData\\Local\\Temp\\ipykernel_13452\\3312049938.py:28: SettingWithCopyWarning: \n",
      "A value is trying to be set on a copy of a slice from a DataFrame.\n",
      "Try using .loc[row_indexer,col_indexer] = value instead\n",
      "\n",
      "See the caveats in the documentation: https://pandas.pydata.org/pandas-docs/stable/user_guide/indexing.html#returning-a-view-versus-a-copy\n",
      "  nan_data['acre_lot'] = model.predict(nan_X)\n",
      "C:\\Users\\fial_\\AppData\\Local\\Temp\\ipykernel_13452\\3312049938.py:31: SettingWithCopyWarning: \n",
      "A value is trying to be set on a copy of a slice from a DataFrame.\n",
      "Try using .loc[row_indexer,col_indexer] = value instead\n",
      "\n",
      "See the caveats in the documentation: https://pandas.pydata.org/pandas-docs/stable/user_guide/indexing.html#returning-a-view-versus-a-copy\n",
      "  nan_data['acre_lot'] = nan_data['acre_lot'].round(1)\n"
     ]
    },
    {
     "name": "stdout",
     "output_type": "stream",
     "text": [
      "Filled \"acre_lot\" for Maine_properties.csv.\n"
     ]
    },
    {
     "name": "stderr",
     "output_type": "stream",
     "text": [
      "C:\\Users\\fial_\\AppData\\Local\\Temp\\ipykernel_13452\\3312049938.py:28: SettingWithCopyWarning: \n",
      "A value is trying to be set on a copy of a slice from a DataFrame.\n",
      "Try using .loc[row_indexer,col_indexer] = value instead\n",
      "\n",
      "See the caveats in the documentation: https://pandas.pydata.org/pandas-docs/stable/user_guide/indexing.html#returning-a-view-versus-a-copy\n",
      "  nan_data['acre_lot'] = model.predict(nan_X)\n",
      "C:\\Users\\fial_\\AppData\\Local\\Temp\\ipykernel_13452\\3312049938.py:31: SettingWithCopyWarning: \n",
      "A value is trying to be set on a copy of a slice from a DataFrame.\n",
      "Try using .loc[row_indexer,col_indexer] = value instead\n",
      "\n",
      "See the caveats in the documentation: https://pandas.pydata.org/pandas-docs/stable/user_guide/indexing.html#returning-a-view-versus-a-copy\n",
      "  nan_data['acre_lot'] = nan_data['acre_lot'].round(1)\n"
     ]
    },
    {
     "name": "stdout",
     "output_type": "stream",
     "text": [
      "Filled \"acre_lot\" for Massachusetts_properties.csv.\n"
     ]
    },
    {
     "name": "stderr",
     "output_type": "stream",
     "text": [
      "C:\\Users\\fial_\\AppData\\Local\\Temp\\ipykernel_13452\\3312049938.py:28: SettingWithCopyWarning: \n",
      "A value is trying to be set on a copy of a slice from a DataFrame.\n",
      "Try using .loc[row_indexer,col_indexer] = value instead\n",
      "\n",
      "See the caveats in the documentation: https://pandas.pydata.org/pandas-docs/stable/user_guide/indexing.html#returning-a-view-versus-a-copy\n",
      "  nan_data['acre_lot'] = model.predict(nan_X)\n",
      "C:\\Users\\fial_\\AppData\\Local\\Temp\\ipykernel_13452\\3312049938.py:31: SettingWithCopyWarning: \n",
      "A value is trying to be set on a copy of a slice from a DataFrame.\n",
      "Try using .loc[row_indexer,col_indexer] = value instead\n",
      "\n",
      "See the caveats in the documentation: https://pandas.pydata.org/pandas-docs/stable/user_guide/indexing.html#returning-a-view-versus-a-copy\n",
      "  nan_data['acre_lot'] = nan_data['acre_lot'].round(1)\n"
     ]
    },
    {
     "name": "stdout",
     "output_type": "stream",
     "text": [
      "Filled \"acre_lot\" for New Hampshire_properties.csv.\n"
     ]
    },
    {
     "name": "stderr",
     "output_type": "stream",
     "text": [
      "C:\\Users\\fial_\\AppData\\Local\\Temp\\ipykernel_13452\\3312049938.py:28: SettingWithCopyWarning: \n",
      "A value is trying to be set on a copy of a slice from a DataFrame.\n",
      "Try using .loc[row_indexer,col_indexer] = value instead\n",
      "\n",
      "See the caveats in the documentation: https://pandas.pydata.org/pandas-docs/stable/user_guide/indexing.html#returning-a-view-versus-a-copy\n",
      "  nan_data['acre_lot'] = model.predict(nan_X)\n",
      "C:\\Users\\fial_\\AppData\\Local\\Temp\\ipykernel_13452\\3312049938.py:31: SettingWithCopyWarning: \n",
      "A value is trying to be set on a copy of a slice from a DataFrame.\n",
      "Try using .loc[row_indexer,col_indexer] = value instead\n",
      "\n",
      "See the caveats in the documentation: https://pandas.pydata.org/pandas-docs/stable/user_guide/indexing.html#returning-a-view-versus-a-copy\n",
      "  nan_data['acre_lot'] = nan_data['acre_lot'].round(1)\n"
     ]
    },
    {
     "name": "stdout",
     "output_type": "stream",
     "text": [
      "Filled \"acre_lot\" for New Jersey_properties.csv.\n"
     ]
    },
    {
     "name": "stderr",
     "output_type": "stream",
     "text": [
      "C:\\Users\\fial_\\AppData\\Local\\Temp\\ipykernel_13452\\3312049938.py:28: SettingWithCopyWarning: \n",
      "A value is trying to be set on a copy of a slice from a DataFrame.\n",
      "Try using .loc[row_indexer,col_indexer] = value instead\n",
      "\n",
      "See the caveats in the documentation: https://pandas.pydata.org/pandas-docs/stable/user_guide/indexing.html#returning-a-view-versus-a-copy\n",
      "  nan_data['acre_lot'] = model.predict(nan_X)\n",
      "C:\\Users\\fial_\\AppData\\Local\\Temp\\ipykernel_13452\\3312049938.py:31: SettingWithCopyWarning: \n",
      "A value is trying to be set on a copy of a slice from a DataFrame.\n",
      "Try using .loc[row_indexer,col_indexer] = value instead\n",
      "\n",
      "See the caveats in the documentation: https://pandas.pydata.org/pandas-docs/stable/user_guide/indexing.html#returning-a-view-versus-a-copy\n",
      "  nan_data['acre_lot'] = nan_data['acre_lot'].round(1)\n"
     ]
    },
    {
     "name": "stdout",
     "output_type": "stream",
     "text": [
      "Filled \"acre_lot\" for New York_properties.csv.\n",
      "Filled \"acre_lot\" for Pennsylvania_properties.csv.\n"
     ]
    },
    {
     "name": "stderr",
     "output_type": "stream",
     "text": [
      "C:\\Users\\fial_\\AppData\\Local\\Temp\\ipykernel_13452\\3312049938.py:28: SettingWithCopyWarning: \n",
      "A value is trying to be set on a copy of a slice from a DataFrame.\n",
      "Try using .loc[row_indexer,col_indexer] = value instead\n",
      "\n",
      "See the caveats in the documentation: https://pandas.pydata.org/pandas-docs/stable/user_guide/indexing.html#returning-a-view-versus-a-copy\n",
      "  nan_data['acre_lot'] = model.predict(nan_X)\n",
      "C:\\Users\\fial_\\AppData\\Local\\Temp\\ipykernel_13452\\3312049938.py:31: SettingWithCopyWarning: \n",
      "A value is trying to be set on a copy of a slice from a DataFrame.\n",
      "Try using .loc[row_indexer,col_indexer] = value instead\n",
      "\n",
      "See the caveats in the documentation: https://pandas.pydata.org/pandas-docs/stable/user_guide/indexing.html#returning-a-view-versus-a-copy\n",
      "  nan_data['acre_lot'] = nan_data['acre_lot'].round(1)\n",
      "C:\\Users\\fial_\\AppData\\Local\\Temp\\ipykernel_13452\\3312049938.py:28: SettingWithCopyWarning: \n",
      "A value is trying to be set on a copy of a slice from a DataFrame.\n",
      "Try using .loc[row_indexer,col_indexer] = value instead\n",
      "\n",
      "See the caveats in the documentation: https://pandas.pydata.org/pandas-docs/stable/user_guide/indexing.html#returning-a-view-versus-a-copy\n",
      "  nan_data['acre_lot'] = model.predict(nan_X)\n",
      "C:\\Users\\fial_\\AppData\\Local\\Temp\\ipykernel_13452\\3312049938.py:31: SettingWithCopyWarning: \n",
      "A value is trying to be set on a copy of a slice from a DataFrame.\n",
      "Try using .loc[row_indexer,col_indexer] = value instead\n",
      "\n",
      "See the caveats in the documentation: https://pandas.pydata.org/pandas-docs/stable/user_guide/indexing.html#returning-a-view-versus-a-copy\n",
      "  nan_data['acre_lot'] = nan_data['acre_lot'].round(1)\n"
     ]
    },
    {
     "name": "stdout",
     "output_type": "stream",
     "text": [
      "Filled \"acre_lot\" for Puerto Rico_properties.csv.\n"
     ]
    },
    {
     "name": "stderr",
     "output_type": "stream",
     "text": [
      "C:\\Users\\fial_\\AppData\\Local\\Temp\\ipykernel_13452\\3312049938.py:28: SettingWithCopyWarning: \n",
      "A value is trying to be set on a copy of a slice from a DataFrame.\n",
      "Try using .loc[row_indexer,col_indexer] = value instead\n",
      "\n",
      "See the caveats in the documentation: https://pandas.pydata.org/pandas-docs/stable/user_guide/indexing.html#returning-a-view-versus-a-copy\n",
      "  nan_data['acre_lot'] = model.predict(nan_X)\n",
      "C:\\Users\\fial_\\AppData\\Local\\Temp\\ipykernel_13452\\3312049938.py:31: SettingWithCopyWarning: \n",
      "A value is trying to be set on a copy of a slice from a DataFrame.\n",
      "Try using .loc[row_indexer,col_indexer] = value instead\n",
      "\n",
      "See the caveats in the documentation: https://pandas.pydata.org/pandas-docs/stable/user_guide/indexing.html#returning-a-view-versus-a-copy\n",
      "  nan_data['acre_lot'] = nan_data['acre_lot'].round(1)\n"
     ]
    },
    {
     "name": "stdout",
     "output_type": "stream",
     "text": [
      "Filled \"acre_lot\" for Rhode Island_properties.csv.\n"
     ]
    },
    {
     "name": "stderr",
     "output_type": "stream",
     "text": [
      "C:\\Users\\fial_\\AppData\\Local\\Temp\\ipykernel_13452\\3312049938.py:28: SettingWithCopyWarning: \n",
      "A value is trying to be set on a copy of a slice from a DataFrame.\n",
      "Try using .loc[row_indexer,col_indexer] = value instead\n",
      "\n",
      "See the caveats in the documentation: https://pandas.pydata.org/pandas-docs/stable/user_guide/indexing.html#returning-a-view-versus-a-copy\n",
      "  nan_data['acre_lot'] = model.predict(nan_X)\n",
      "C:\\Users\\fial_\\AppData\\Local\\Temp\\ipykernel_13452\\3312049938.py:31: SettingWithCopyWarning: \n",
      "A value is trying to be set on a copy of a slice from a DataFrame.\n",
      "Try using .loc[row_indexer,col_indexer] = value instead\n",
      "\n",
      "See the caveats in the documentation: https://pandas.pydata.org/pandas-docs/stable/user_guide/indexing.html#returning-a-view-versus-a-copy\n",
      "  nan_data['acre_lot'] = nan_data['acre_lot'].round(1)\n"
     ]
    },
    {
     "name": "stdout",
     "output_type": "stream",
     "text": [
      "Filled \"acre_lot\" for Vermont_properties.csv.\n"
     ]
    }
   ],
   "source": [
    "# Loop through the CSV files\n",
    "for filename in os.listdir(input_dir):\n",
    "    if filename.endswith('.csv'):\n",
    "        # Read the CSV file into a DataFrame\n",
    "        filepath = os.path.join(input_dir, filename)\n",
    "        df = pd.read_csv(filepath)\n",
    "\n",
    "        # Check the number of rows in the DataFrame\n",
    "        num_rows = len(df)\n",
    "\n",
    "        # Only fill NaN values for files with over 15,000 rows\n",
    "        if num_rows >= min_rows:\n",
    "            # Filter data with non-NaN 'acre_lot'\n",
    "            valid_data = df.dropna(subset=['acre_lot'])\n",
    "\n",
    "            # Separate features ('house_size', 'bed', 'bath') and target ('acre_lot')\n",
    "            X = valid_data[['house_size', 'bed', 'bath']]\n",
    "            y = valid_data['acre_lot']\n",
    "\n",
    "            # Train a linear regression model\n",
    "            model = LinearRegression()\n",
    "            model.fit(X, y)\n",
    "\n",
    "            # Predict 'acre_lot' for rows with NaNs\n",
    "            nan_data = df[pd.isna(df['acre_lot'])]\n",
    "            if not nan_data.empty:\n",
    "                nan_X = nan_data[['house_size', 'bed', 'bath']]\n",
    "                nan_data['acre_lot'] = model.predict(nan_X)\n",
    "\n",
    "                # Round the predicted 'acre_lot' values to one decimal place\n",
    "                nan_data['acre_lot'] = nan_data['acre_lot'].round(1)\n",
    "\n",
    "                # Update the original DataFrame with filled 'acre_lot'\n",
    "                df.update(nan_data)\n",
    "\n",
    "                # Save the updated DataFrame back to the same CSV file\n",
    "                df.to_csv(filepath, index=False)\n",
    "                print(f'Filled \"acre_lot\" for {filename}.')"
   ]
  },
  {
   "cell_type": "code",
   "execution_count": 147,
   "metadata": {},
   "outputs": [],
   "source": [
    "# Create a text file to store the NaN counts. This was used for understanding the dataset.\n",
    "# Since the data set has been cleaned, it's no longer needed. Leaving it as a reference of our work.\n",
    "output_file = 'nan_counts.txt'\n",
    "\n",
    "with open(output_file, 'w') as f:\n",
    "    # Loop through the CSV files\n",
    "    for filename in os.listdir(input_dir):\n",
    "        if filename.endswith('.csv'):\n",
    "            # Read the CSV file into a DataFrame\n",
    "            filepath = os.path.join(input_dir, filename)\n",
    "            df = pd.read_csv(filepath)\n",
    "\n",
    "            # Count NaNs for each column in the DataFrame\n",
    "            nan_counts = df.isna().sum()\n",
    "\n",
    "            # Get the total number of rows\n",
    "            total_rows = len(df)\n",
    "\n",
    "            # Write the NaN counts and total rows for each file to the text file\n",
    "            f.write(f\"NaN counts and total rows for {filename}:\\n\")\n",
    "            for column in df.columns:\n",
    "                f.write(f\"{column}: {nan_counts[column]}\\n\")\n",
    "            f.write(f\"Total Rows: {total_rows}\\n\")\n",
    "            f.write('\\n')\n",
    "\n"
   ]
  }
 ],
 "metadata": {
  "kernelspec": {
   "display_name": "dev",
   "language": "python",
   "name": "python3"
  },
  "language_info": {
   "codemirror_mode": {
    "name": "ipython",
    "version": 3
   },
   "file_extension": ".py",
   "mimetype": "text/x-python",
   "name": "python",
   "nbconvert_exporter": "python",
   "pygments_lexer": "ipython3",
   "version": "3.10.12"
  },
  "orig_nbformat": 4
 },
 "nbformat": 4,
 "nbformat_minor": 2
}
